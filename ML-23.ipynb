{
 "cells": [
  {
   "cell_type": "code",
   "execution_count": 1,
   "metadata": {},
   "outputs": [],
   "source": [
    "# Q1. In order to predict house price based on several characteristics, such as location, square footage,\n",
    "# number of bedrooms, etc., you are developing an SVM regression model. Which regression metric in this\n",
    "# situation would be the best to employ?\n",
    "# Answer :\n",
    "# Mean Absolute Error (MAE)\n",
    "# In this scenario, Mean Absolute Error (MAE) would be the best regression metric to employ. MAE measures the average difference between predicted and actual house prices, which is a suitable metric for regression problems involving continuous outcomes like house prices. Additionally, MAE is more interpretable than other metrics like Mean Squared Error (MSE) and is less sensitive to outliers, making it a more robust choice for this problem.\n",
    "\n",
    "\n",
    "\n",
    "\n"
   ]
  },
  {
   "cell_type": "code",
   "execution_count": null,
   "metadata": {},
   "outputs": [],
   "source": [
    "# Q2. You have built an SVM regression model and are trying to decide between using MSE or R-squared as\n",
    "# your evaluation metric. Which metric would be more appropriate if your goal is to predict the actual price\n",
    "# of a house as accurately as possible?\n",
    "# Answer :\n",
    "# Mean Squared Error (MSE)\n",
    "# If your goal is to predict the actual price of a house as accurately as possible, Mean Squared Error (MSE) would be a more appropriate evaluation metric. MSE measures the average squared difference between predicted and actual house prices, which penalizes large errors more heavily than smaller ones. This makes MSE a more suitable metric when the goal is to minimize the difference between predicted and actual values.\n",
    "\n",
    "# In contrast, R-squared (R²) measures the proportion of variance in the dependent variable that is predictable from the independent variables, but it does not provide information about the absolute size of the errors. Therefore, if your primary concern is to predict the actual price of a house accurately, MSE is a more relevant metric."
   ]
  },
  {
   "cell_type": "code",
   "execution_count": null,
   "metadata": {},
   "outputs": [],
   "source": [
    "# Q3. You have a dataset with a significant number of outliers and are trying to select an appropriate\n",
    "# regression metric to use with your SVM model. Which metric would be the most appropriate in this\n",
    "# scenario?\n",
    "# Answer :\n",
    "# Mean Absolute Error (MAE)\n",
    "# When dealing with a dataset that has a significant number of outliers, Mean Absolute Error (MAE) is a more appropriate regression metric to use with your SVM model. MAE is a robust metric that is less sensitive to outliers compared to Mean Squared Error (MSE). This is because MAE uses the absolute difference between predicted and actual values, whereas MSE uses the squared difference, which can be heavily influenced by extreme outliers.\n",
    "\n",
    "# MAE is a more robust metric in the presence of outliers because it does not exaggerate the effect of extreme values. This makes MAE a better choice when working with datasets that contain outliers, as it provides a more realistic representation of the model's performance."
   ]
  },
  {
   "cell_type": "code",
   "execution_count": null,
   "metadata": {},
   "outputs": [],
   "source": [
    "# Q4. You have built an SVM regression model using a polynomial kernel and are trying to select the best\n",
    "# metric to evaluate its performance. You have calculated both MSE and RMSE and found that both values\n",
    "# are very close. Which metric should you choose to use in this case?\n",
    "# Answer :\n",
    "# RMSE (Root Mean Squared Error)\n",
    "# In this scenario, since both MSE and RMSE values are very close, it's recommended to use RMSE as the evaluation metric. RMSE is more interpretable than MSE because it is in the same units as the target variable, which makes it easier to understand the magnitude of the errors.\n",
    "\n",
    "# RMSE is the square root of MSE, so it provides a more direct sense of the average distance between predicted and actual values. This makes RMSE a more intuitive metric for evaluating the performance of the SVM regression model.\n",
    "\n",
    "# Additionally, RMSE is a more commonly used metric in regression problems, so it's easier to compare the performance of your model with other models or benchmarks."
   ]
  },
  {
   "cell_type": "code",
   "execution_count": null,
   "metadata": {},
   "outputs": [],
   "source": [
    "# Q5. You are comparing the performance of different SVM regression models using different kernels (linear,\n",
    "# polynomial, and RBF) and are trying to select the best evaluation metric. Which metric would be most\n",
    "# appropriate if your goal is to measure how well the model explains the variance in the target variable?\n",
    "# Answer :\n",
    "# R-squared (R²)\n",
    "# If your goal is to measure how well the model explains the variance in the target variable, R-squared (R²) would be the most appropriate evaluation metric. R² measures the proportion of variance in the target variable that is predictable from the features used in the model. It provides a measure of how well the model fits the data and explains the variability in the target variable.\n",
    "\n",
    "# R² is a useful metric for comparing the performance of different SVM regression models with different kernels, as it provides a standardized measure of the model's goodness of fit. A higher R² value indicates that the model is better at explaining the variance in the target variable, while a lower R² value indicates that the model is not capturing the underlying relationships in the data as well."
   ]
  }
 ],
 "metadata": {
  "kernelspec": {
   "display_name": "Python 3",
   "language": "python",
   "name": "python3"
  },
  "language_info": {
   "codemirror_mode": {
    "name": "ipython",
    "version": 3
   },
   "file_extension": ".py",
   "mimetype": "text/x-python",
   "name": "python",
   "nbconvert_exporter": "python",
   "pygments_lexer": "ipython3",
   "version": "3.10.11"
  }
 },
 "nbformat": 4,
 "nbformat_minor": 2
}
